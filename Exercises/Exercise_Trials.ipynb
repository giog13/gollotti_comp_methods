{
 "cells": [
  {
   "cell_type": "code",
   "execution_count": 1,
   "id": "632d1913",
   "metadata": {},
   "outputs": [],
   "source": [
    "import numpy as np\n",
    "import random\n",
    "import pandas as pd\n",
    "import astropy.constants as const\n",
    "#import scipy.constants as const\n",
    "import astropy.units as u\n",
    "import argparse\n",
    "import sys\n",
    "import math\n",
    "import cmath\n",
    "import matplotlib.pyplot as plt"
   ]
  },
  {
   "cell_type": "code",
   "execution_count": null,
   "id": "075b4002",
   "metadata": {},
   "outputs": [],
   "source": [
    "def drop_time(h, g = 9.8): #h = positional, g = keyword\n",
    "    t = ((2.0 * h) / g) ** (1/2) #Avoid using a package unless absolutely necessary\n",
    "    return t"
   ]
  },
  {
   "cell_type": "code",
   "execution_count": null,
   "id": "d67681c3",
   "metadata": {},
   "outputs": [],
   "source": [
    "#If the height is 1 m:\n",
    "drop_time(10)"
   ]
  },
  {
   "cell_type": "markdown",
   "id": "36a50ccc",
   "metadata": {},
   "source": [
    "Machine Precision"
   ]
  },
  {
   "cell_type": "code",
   "execution_count": null,
   "id": "fff0212d",
   "metadata": {},
   "outputs": [],
   "source": [
    "x = 1.0\n",
    "eps = 1.0\n",
    "\n",
    "while not x + eps == x:\n",
    "    eps = 0.5 * eps\n",
    "    \n",
    "print(2 * eps)"
   ]
  },
  {
   "cell_type": "code",
   "execution_count": null,
   "id": "6076f052",
   "metadata": {},
   "outputs": [],
   "source": [
    "b = 0.1\n",
    "print(type(b))\n",
    "print(\"{:30.20}\".format(b))\n",
    "sys.float_info"
   ]
  },
  {
   "cell_type": "code",
   "execution_count": null,
   "id": "aa16ce19",
   "metadata": {},
   "outputs": [],
   "source": [
    "x = 1\n",
    "y = 1 + (10e-14 * np.sqrt(2))\n",
    "\n",
    "print(1e14 * (y-x))\n",
    "print(np.sqrt(2))"
   ]
  },
  {
   "cell_type": "code",
   "execution_count": null,
   "id": "46f48def",
   "metadata": {},
   "outputs": [],
   "source": [
    "def quad_formula_2(a, b, c):\n",
    "    #Solution 2\n",
    "    x_1 = (2 * c) / (-b - np.sqrt(np.square(b) - (4 * a * c)))\n",
    "    x_2 = (2 * c) / (-b + np.sqrt(np.square(b) - (4 * a * c)))\n",
    "    \n",
    "    return x_1, x_2  "
   ]
  },
  {
   "cell_type": "code",
   "execution_count": null,
   "id": "02bac8d0",
   "metadata": {},
   "outputs": [],
   "source": [
    "root_1, root_2 = quad_formula_2(3, 6, 1)\n",
    "print(root_1)\n",
    "print(root_2)"
   ]
  },
  {
   "cell_type": "code",
   "execution_count": null,
   "id": "0c98b49f",
   "metadata": {},
   "outputs": [],
   "source": [
    "def energy(n):\n",
    "    \n",
    "    hf = 1\n",
    "    beta = 0.01\n",
    "    \n",
    "    #Initializers\n",
    "    Z = 0\n",
    "    E = 0\n",
    "    \n",
    "    for i in range(n):\n",
    "        E_n = hf * (i + 0.5) #Energy level\n",
    "        Z = Z + np.exp(-beta * E_n) #Z equation (infinite sum)\n",
    "        E += E_n * np.exp(-beta * E_n) #E equation\n",
    "        \n",
    "    avg_E = (E/Z) #Average energy\n",
    "    \n",
    "    return avg_E"
   ]
  },
  {
   "cell_type": "code",
   "execution_count": null,
   "id": "e638bbb0",
   "metadata": {},
   "outputs": [],
   "source": [
    "#Hundred runs\n",
    "print(f\"4000 runs: {energy(4000)}\")"
   ]
  },
  {
   "cell_type": "markdown",
   "id": "ff58ae12",
   "metadata": {},
   "source": [
    "Trapezoid Rule (Integration)"
   ]
  },
  {
   "cell_type": "code",
   "execution_count": null,
   "id": "84f0e02f",
   "metadata": {},
   "outputs": [],
   "source": [
    "def func(x): #Integration function\n",
    "    return x**4 - (2*x) + 1"
   ]
  },
  {
   "cell_type": "code",
   "execution_count": null,
   "id": "1868a0de",
   "metadata": {},
   "outputs": [],
   "source": [
    "def trap_rule(n, a = 0, b = 2, function = func):\n",
    "    \n",
    "    #Default paramaters\n",
    "    #a (lower limit) = 0\n",
    "    #b (upper limit) = 2\n",
    "    #function = func\n",
    "    \n",
    "    h = (b - a) / n #Height\n",
    "    s = (0.5 * function(a)) + (0.5 * function(b)) #Sum\n",
    "    \n",
    "    for k in range(1, n + 1): #Summation (range stops at n)\n",
    "        s += function(a + (k * h))\n",
    "        \n",
    "    return (h * s) #Multiply height by the sum"
   ]
  },
  {
   "cell_type": "code",
   "execution_count": null,
   "id": "d15ec41e",
   "metadata": {},
   "outputs": [],
   "source": [
    "trap_rule(10)"
   ]
  },
  {
   "cell_type": "markdown",
   "id": "ab369e53",
   "metadata": {},
   "source": [
    "Simpson's Rule"
   ]
  },
  {
   "cell_type": "code",
   "execution_count": null,
   "id": "cb9332a0",
   "metadata": {},
   "outputs": [],
   "source": [
    "def OG_simps_rule(n, a = 0, b = 2, function = func):\n",
    "    \n",
    "    #Default paramaters\n",
    "    #a (lower limit) = 0\n",
    "    #b (upper limit) = 2\n",
    "    #function = func \n",
    "    \n",
    "    delta_x = (b - a) / n\n",
    "    \n",
    "    s = function(a) + function(b)\n",
    "    \n",
    "    #Odd integer loop\n",
    "    for k in range(1, int(n/2) + 1):\n",
    "        s += 4 * function(a + (((2 * k) - 1) * delta_x))\n",
    "    \n",
    "    #Even integer loop\n",
    "    for k in range(1, int((n/2))):\n",
    "        s += 2 * function(a + (2 * k * delta_x))\n",
    "        \n",
    "    return (delta_x / 3) * s"
   ]
  },
  {
   "cell_type": "code",
   "execution_count": null,
   "id": "22b5f2a5",
   "metadata": {},
   "outputs": [],
   "source": [
    "OG_simps_rule(1000, function = exp_func) #Ok, so the above method works... how do I adapt it to work for the plots?"
   ]
  },
  {
   "cell_type": "code",
   "execution_count": null,
   "id": "2777a77a",
   "metadata": {},
   "outputs": [],
   "source": [
    "simpsons_rule(10)"
   ]
  },
  {
   "cell_type": "code",
   "execution_count": null,
   "id": "88c3a1c0",
   "metadata": {},
   "outputs": [],
   "source": [
    "#Trapezoid rule\n",
    "\n",
    "#10 steps\n",
    "integral_10_trap = trap_rule(10)\n",
    "\n",
    "#20 steps\n",
    "integral_20_trap = trap_rule(20)\n",
    "\n",
    "error_trap = (1/3) * abs(integral_20_trap - integral_10_trap)\n",
    "\n",
    "print(f\"Error with Trapezoid Rule: {error_trap}\")"
   ]
  },
  {
   "cell_type": "code",
   "execution_count": null,
   "id": "1b621358",
   "metadata": {},
   "outputs": [],
   "source": [
    "#Simpson's rule\n",
    "\n",
    "#10 steps\n",
    "integral_10_simp = simpsons_rule(10)\n",
    "\n",
    "#20 steps\n",
    "integral_20_simp = simpsons_rule(20)\n",
    "\n",
    "error_simp = (1/15) * abs(integral_20_simp - integral_10_simp)\n",
    "\n",
    "print(f\"Error with Simpson's Rule: {error_simp}\")"
   ]
  },
  {
   "cell_type": "markdown",
   "id": "dbd0a1bb",
   "metadata": {},
   "source": [
    "Gaussian Quadrature"
   ]
  },
  {
   "cell_type": "code",
   "execution_count": null,
   "id": "e8ae0369",
   "metadata": {},
   "outputs": [],
   "source": [
    "def gaussxw(N):\n",
    "\n",
    "    # Initial approximation to roots of the Legendre polynomial\n",
    "    a = np.linspace(3,4*N-1,N)/(4*N+2)\n",
    "    x = np.cos(np.pi*a+1/(8*N*N*np.tan(a)))\n",
    "\n",
    "    # Find roots using Newton's method\n",
    "    epsilon = 1e-15\n",
    "    delta = 1.0\n",
    "    while delta>epsilon:\n",
    "        p0 = np.ones(N,float)\n",
    "        p1 = np.copy(x)\n",
    "        for k in range(1,N):\n",
    "            p0,p1 = p1,((2*k+1)*x*p1-k*p0)/(k+1)\n",
    "        dp = (N+1)*(p0-x*p1)/(1-x*x)\n",
    "        dx = p1/dp\n",
    "        x -= dx\n",
    "        delta = np.max(np.abs(dx))\n",
    "\n",
    "    # Calculate the weights\n",
    "    w = 2*(N+1)*(N+1)/(N*N*(1-x*x)*dp*dp)\n",
    "\n",
    "    return x,w\n",
    "\n",
    "def gaussxwab(N,a,b):\n",
    "    x,w = gaussxw(N)\n",
    "    return 0.5*(b-a)*x+0.5*(b+a),0.5*(b-a)*w"
   ]
  },
  {
   "cell_type": "code",
   "execution_count": null,
   "id": "a1bbe34d",
   "metadata": {},
   "outputs": [],
   "source": [
    "locations, weights = gaussxwab(3, 0, 2)\n",
    "print(f\"Locations: {locations}\\n\")\n",
    "print(f\"Weights: {weights}\")"
   ]
  },
  {
   "cell_type": "code",
   "execution_count": null,
   "id": "969e8b03",
   "metadata": {},
   "outputs": [],
   "source": [
    "def gauss_quad(N, a = 0, b = 2, function = func): #N = Number of steps, a = Lower bound, b = Upper bound\n",
    "    \n",
    "    x, w = gaussxwab(N, a, b) #Calculates the x-coordinates for specific points and their weights\n",
    "    \n",
    "    s = 0 #Initializer variable for the sum\n",
    "    \n",
    "    for k in range(0, N): #Need the range to span the same indices as the x and w lists\n",
    "        s += w[k] * function(x[k]) #Multiplies the weights by the y-values corresponding to each point's location\n",
    "        \n",
    "    return s #Returns the sum"
   ]
  },
  {
   "cell_type": "code",
   "execution_count": null,
   "id": "094a43e1",
   "metadata": {},
   "outputs": [],
   "source": [
    "gauss_quad(3)"
   ]
  },
  {
   "cell_type": "markdown",
   "id": "7a208380",
   "metadata": {},
   "source": [
    "Differentiation"
   ]
  },
  {
   "cell_type": "code",
   "execution_count": null,
   "id": "8f991ea8",
   "metadata": {},
   "outputs": [],
   "source": [
    "def tan_func(x):\n",
    "    return 1 + (0.5 * np.tanh(2*x))"
   ]
  },
  {
   "cell_type": "code",
   "execution_count": null,
   "id": "a38eb0bf",
   "metadata": {},
   "outputs": [],
   "source": [
    "def analytic_deriv(x):\n",
    "    return 1 / (np.cosh(2 * x) ** 2)"
   ]
  },
  {
   "cell_type": "code",
   "execution_count": null,
   "id": "bef53eb7",
   "metadata": {},
   "outputs": [],
   "source": [
    "def central_diff(x, func = tan_func):\n",
    "    \n",
    "    h = 10**-5\n",
    "    \n",
    "    return (1/h) * (func(x + (0.5 * h)) - func(x - (0.5 * h)))"
   ]
  },
  {
   "cell_type": "code",
   "execution_count": null,
   "id": "b9ee9131",
   "metadata": {},
   "outputs": [],
   "source": [
    "diff_range = np.linspace(-2, 2, 100)\n",
    "\n",
    "fig = plt.figure(figsize = (12, 8))\n",
    "\n",
    "plt.plot(diff_range, central_diff(diff_range), color = 'blue', label = 'Central Diff Derivative')\n",
    "plt.plot(diff_range, analytic_deriv(diff_range), color = 'orangered', label = 'Analytic Derivative')\n",
    "\n",
    "plt.grid()\n",
    "plt.legend(loc = 'upper left', fontsize = 15)"
   ]
  },
  {
   "cell_type": "markdown",
   "id": "bfd0f616",
   "metadata": {},
   "source": [
    "# HW - Integration"
   ]
  },
  {
   "cell_type": "code",
   "execution_count": null,
   "id": "9a76d2a6",
   "metadata": {},
   "outputs": [],
   "source": [
    "def exp_func(t):\n",
    "    return np.e ** (-(t ** 2))"
   ]
  },
  {
   "cell_type": "code",
   "execution_count": null,
   "id": "ecd94b56",
   "metadata": {},
   "outputs": [],
   "source": [
    "#Trapezoid rule\n",
    "\n",
    "def trap_rule(N, a = 0, b = 3, step_size = 0.1, function = exp_func):\n",
    "    \n",
    "    \"\"\"\n",
    "    This function integrates a given function using the trapezoidal method. This function will integrate over\n",
    "    bounds of 0 (lower) and 3 (upper), but the user can change the bounds if desired. The given function will\n",
    "    be iterated over increments of 0.1, which is considered the \"step size.\" Similarly to the bounds, the user\n",
    "    can change the step size if desired. \n",
    "    \n",
    "    The integral will be iterated N times, where the upper bounds changes from a (0) to b(3) via step_size (0.1)\n",
    "    increments (ex: ingerate from 0 to 0.1, 0 to 0.2, etc.). With each iteration of the 'for loop,' delta_x will\n",
    "    change depending on the upper bound, and from there, we can calculate the area of a trapezoidal segment.\n",
    "    Every time the upper bound changes, the trapezoid's areas will be summed together. After calculating the area,\n",
    "    it will be added to the trapezoidal method's integration equation, and the answer for the integral will be\n",
    "    added to an array (sum_trap). x_range and sum_trap will then be returned, so the values can be plotted.\n",
    "    \n",
    "    \n",
    "    Parameters:\n",
    "        N (int) = Number of times an integral will be calculated (positional argument)\n",
    "        a (int or float) = Lower bound for the integral (keyword argument)\n",
    "        b (int or float) = Upper bound for the integral (keyword argument)\n",
    "        step_size (float) = Incremental change of bounds (keyword argument)\n",
    "        function (function name) = Function being integrated (keyword argument)\n",
    "    \n",
    "    Values:\n",
    "        area_trap (float) = Area corresponding to each trapezoidal segment\n",
    "        delta_x (float) = Height of each trapezoidal segment \n",
    "        \n",
    "    \n",
    "    Returns:\n",
    "        x_range (np.array) = Array of increments spanning the upper and lower bound, where the increments are\n",
    "                             dependent on the step size\n",
    "        sum_trap (list) = List of sums corresponding to each iteration of the integration method\n",
    "        \n",
    "    \n",
    "    \"\"\"\n",
    "    \n",
    "    x_range = np.arange(a, b, step_size)\n",
    "    \n",
    "    sum_trap = [] #List of each trapezoid slice's sum\n",
    "    \n",
    "    for i in x_range: #Range of summation (range stops at N)\n",
    "        \n",
    "        area_trap = 0 #Area of individual trapezoid slice\n",
    "        \n",
    "        delta_x = (i - a) / N #Change in x for each iteration of the integration\n",
    "        \n",
    "        for j in range(N + 1): #Loops N times\n",
    "            area_trap += function(a + (j * delta_x)) #Sum for each iteration\n",
    "            \n",
    "        lower_end_point = 0.5 * function(a) #Starting value\n",
    "        upper_end_point = 0.5 * function(i) #Ending value\n",
    "        \n",
    "        #Integration equation for trapezoidal method\n",
    "        integral_trap = delta_x * (lower_end_point + area_trap + upper_end_point)\n",
    "        \n",
    "        sum_trap.append(integral_trap) #Appends each trapezoid's sums together\n",
    "        \n",
    "    print(f\"Trapezoid rule with step size of {step_size} = {integral_trap:.3f}\")\n",
    "        \n",
    "    return sum_trap, x_range #Multiplies height by the sum"
   ]
  },
  {
   "cell_type": "code",
   "execution_count": null,
   "id": "71f5686d",
   "metadata": {},
   "outputs": [],
   "source": [
    "sum_trap, x_range = trap_rule(1000)"
   ]
  },
  {
   "cell_type": "code",
   "execution_count": null,
   "id": "ae49c1af",
   "metadata": {},
   "outputs": [],
   "source": [
    "type(sum_trap[0]) #Calculations check out for this method (Wolfram Alpha agrees for the most part)"
   ]
  },
  {
   "cell_type": "code",
   "execution_count": null,
   "id": "46755a87",
   "metadata": {
    "scrolled": false
   },
   "outputs": [],
   "source": [
    "fig = plt.figure(figsize = (12, 8))\n",
    "\n",
    "plt.xlabel('t', fontsize = 15)\n",
    "plt.ylabel('Sum', fontsize = 15)\n",
    "plt.title('Integrating With Trapezoidal Method', fontsize = 20)\n",
    "\n",
    "plt.scatter(x_range, sum_trap, color = 'blue')\n",
    "\n",
    "plt.grid()\n",
    "plt.show()"
   ]
  },
  {
   "cell_type": "code",
   "execution_count": null,
   "id": "15a3ee29",
   "metadata": {},
   "outputs": [],
   "source": [
    "#Simpsons Rule\n",
    "\n",
    "def simpsons_rule(N, a = 0, b = 3, step_size = 0.1, function = exp_func):\n",
    "    \n",
    "    \"\"\"\n",
    "    This function integrates a given function using the Simpson's rule. This function will integrate over\n",
    "    bounds of 0 (lower) and 3 (upper), but the user can change the bounds if desired. The given function will\n",
    "    be iterated over increments of 0.1, which is considered the \"step size.\" Similarly to the bounds, the user\n",
    "    can change the step size if desired. \n",
    "    \n",
    "    The integral will be iterated N times, where the upper bounds changes from a (0) to b(3) via step_size (0.1)\n",
    "    increments (ex: ingerate from 0 to 0.1, 0 to 0.2, etc.). With each iteration of the 'for loop,' delta_x will\n",
    "    change depending on the upper bound, and from there, we can calculate the area under the curve that spans a\n",
    "    specific bound range. Every time the upper bound changes, the areas will be summed together. After calculating\n",
    "    the area, it will be added to the Simpson method's integration equation, and the answer for the integral will\n",
    "    be added to an array (sum_simp). x_range and sum_simp will then be returned, so the values can be plotted.\n",
    "    \n",
    "    Parameters:\n",
    "        N (int) = Number of times an integral will be calculated (positional argument)\n",
    "        a (int or float) = Lower bound for the integral (keyword argument)\n",
    "        b (int or float) = Upper bound for the integral (keyword argument)\n",
    "        step_size (float) = Incremental change of bounds (keyword argument)\n",
    "        function (function name) = Function being integrated (keyword argument)\n",
    "    \n",
    "    Values:\n",
    "        area_simp (float) = Area under the curve corresponding to different bound ranges\n",
    "    \n",
    "    Returns:\n",
    "        x_range (np.array) = Array of increments spanning the upper and lower bound, where the increments are\n",
    "                             dependent on the step size\n",
    "        sum_simp (list) = List of sums corresponding to each iteration of the integration method\n",
    "    \n",
    "    \"\"\"\n",
    "    \n",
    "    x_range = np.arange(a, b, step_size)\n",
    "    \n",
    "    sum_simp = [] #List of each trapezoid slice's sum\n",
    "        \n",
    "    for i in x_range:\n",
    "        \n",
    "        area_simp = 0 #Area under the curve of a specific integration bound\n",
    "        \n",
    "        delta_x = (i - a) / N #Change in x for each iteration of the integration\n",
    "        \n",
    "        lower_end_point = function(a) #Stays constant\n",
    "        upper_end_point = function(i) #Upper bound incrementally increases by the step_size value every iteration\n",
    "        \n",
    "        #Odd integer loop\n",
    "        for k in range(1, int(N/2) + 1):\n",
    "            area_simp += 4 * function(a + (((2 * k) - 1) * delta_x))\n",
    "    \n",
    "        #Even integer loop\n",
    "        for k in range(1, int((N/2))):\n",
    "            area_simp += 2 * function(a + (2 * k * delta_x))\n",
    "                \n",
    "        integral_simp = (delta_x/3) * (lower_end_point + area_simp + upper_end_point) #Simpson's equation\n",
    "        \n",
    "        sum_simp.append(integral_simp) #Appending each set of bounds' integrations to a list    \n",
    "        \n",
    "    #print(f\"Simpson's rule with step size of {step_size} = {integral_simp:.3f}\")\n",
    "        \n",
    "    return x_range, sum_simp, integral_simp"
   ]
  },
  {
   "cell_type": "code",
   "execution_count": null,
   "id": "07fc7390",
   "metadata": {
    "scrolled": true
   },
   "outputs": [],
   "source": [
    "x_range, sum_simp, integral_simp  = simpsons_rule(100) #This method isn't working very well\n",
    "\n",
    "sum_simp"
   ]
  },
  {
   "cell_type": "code",
   "execution_count": null,
   "id": "24270476",
   "metadata": {},
   "outputs": [],
   "source": [
    "fig = plt.figure(figsize = (12, 8))\n",
    "\n",
    "plt.xlabel('t', fontsize = 15)\n",
    "plt.ylabel('Sum', fontsize = 15)\n",
    "plt.title('Integrating With Simpsons Method', fontsize = 20)\n",
    "\n",
    "plt.plot(x_range, sum_simp, color = 'orangered')\n",
    "\n",
    "plt.grid()\n",
    "plt.show()"
   ]
  },
  {
   "cell_type": "code",
   "execution_count": null,
   "id": "73ffdd25",
   "metadata": {},
   "outputs": [],
   "source": [
    "#Comparing both methods\n",
    "\n",
    "fig = plt.figure(figsize = (12, 8))\n",
    "\n",
    "plt.xlabel('t', fontsize = 15)\n",
    "plt.ylabel('Sum', fontsize = 15)\n",
    "plt.title('Integrating With Simpsons Method', fontsize = 20)\n",
    "\n",
    "plt.plot(x_range, sum_simp, color = 'orangered', linewidth = 3, label = 'Simpsons')\n",
    "plt.plot(x_range, sum_trap, color = 'blue', linewidth = 2, linestyle = '--', label = 'Trapezoidal')\n",
    "\n",
    "plt.grid()\n",
    "plt.legend(loc = 'lower right', fontsize = 15)\n",
    "plt.show()"
   ]
  },
  {
   "cell_type": "code",
   "execution_count": null,
   "id": "0c2946f8",
   "metadata": {},
   "outputs": [],
   "source": [
    "def plotting_integral(x_range, sum_list):\n",
    "    \n",
    "    fig = plt.figure(figsize = (12, 8))\n",
    "\n",
    "    plt.xlabel('t', fontsize = 15)\n",
    "    plt.ylabel('Sum', fontsize = 15)\n",
    "\n",
    "    if sum_list == sum_simp:\n",
    "        plt.title('Integrating With Simpsons Method', fontsize = 20)\n",
    "        plt.plot(x_range, sum_list, color = 'orangered', label = 'Simpsons')\n",
    "        \n",
    "    if sum_list == sum_trap:\n",
    "        plt.title('Integrating With Trapezoidal Method', fontsize = 20)\n",
    "        plt.plot(x_range, sum_trap, color = 'blue', label = 'Trapezoidal')\n",
    "\n",
    "    plt.grid()\n",
    "    plt.legend(loc = 'lower right', fontsize = 15)\n",
    "    plt.show()"
   ]
  },
  {
   "cell_type": "code",
   "execution_count": null,
   "id": "6249c408",
   "metadata": {},
   "outputs": [],
   "source": [
    "plotting_integral(x_range, sum_simp)"
   ]
  },
  {
   "cell_type": "code",
   "execution_count": null,
   "id": "43c6926e",
   "metadata": {},
   "outputs": [],
   "source": [
    "sum_trap[-1]"
   ]
  },
  {
   "cell_type": "code",
   "execution_count": null,
   "id": "6a34c4c5",
   "metadata": {},
   "outputs": [],
   "source": [
    "def plotting_integral(x_range, sum_list, method_type):\n",
    "    \n",
    "    fig = plt.figure(figsize = (12, 8))\n",
    "\n",
    "    plt.xlabel('t', fontsize = 15)\n",
    "    plt.ylabel('Sum', fontsize = 15)\n",
    "\n",
    "    #if sum_list == sum_simp:\n",
    "        #plt.title('Integrating With Simpsons Method', fontsize = 20)\n",
    "        #plt.plot(x_range, sum_list, color = 'orangered', label = 'Simpsons')\n",
    "        \n",
    "    if method_type == 'trapezoidal':\n",
    "        plt.title('Integrating With Trapezoidal Method', fontsize = 20)\n",
    "        plt.plot(x_range, sum_list, color = 'blue', label = 'Trapezoidal')\n",
    "        \n",
    "    if method_type == 'both':\n",
    "        plt.title('Integrating With Trapezoid and Simpsons Method', fontsize = 20)\n",
    "\n",
    "        plt.plot(x_range, sum_simp, color = 'orangered', linewidth = 3, label = 'Simpsons')\n",
    "        plt.plot(x_range, sum_trap, color = 'blue', linewidth = 2, linestyle = '--', label = 'Trapezoidal')\n",
    "\n",
    "\n",
    "    plt.grid()\n",
    "    plt.legend(loc = 'lower right', fontsize = 15)\n",
    "    plt.show()"
   ]
  },
  {
   "cell_type": "code",
   "execution_count": null,
   "id": "db8def7f",
   "metadata": {},
   "outputs": [],
   "source": [
    "plotting_integral(x_range, sum_trap, 'trapezoidal')"
   ]
  },
  {
   "cell_type": "markdown",
   "id": "36c3d0ac",
   "metadata": {},
   "source": [
    "Relaxation method"
   ]
  },
  {
   "cell_type": "code",
   "execution_count": null,
   "id": "5fa160f8",
   "metadata": {},
   "outputs": [],
   "source": [
    "def relax_func(x, c):\n",
    "    x = 1 - (np.exp(-c * x))\n",
    "    return x"
   ]
  },
  {
   "cell_type": "code",
   "execution_count": null,
   "id": "ffe14f89",
   "metadata": {},
   "outputs": [],
   "source": [
    "def relax_method(x_guess, c = 2, func = relax_func):\n",
    "\n",
    "    num_iterations = 0 #Increases by 1 for each iteration\n",
    "    \n",
    "    answer = 0 #Initial value\n",
    "    \n",
    "    max_iterations = 100000\n",
    "    \n",
    "    while x_guess != answer or num_iterations < max_iterations: \n",
    "        answer = relax_func(x_guess, c)\n",
    "        x_guess = answer #New guess value = answer from last calculation\n",
    "        num_iterations += 1\n",
    "        \n",
    "    return answer"
   ]
  },
  {
   "cell_type": "code",
   "execution_count": null,
   "id": "c732d832",
   "metadata": {},
   "outputs": [],
   "source": [
    "answer = relax_method(1)\n",
    "\n",
    "answer"
   ]
  },
  {
   "cell_type": "code",
   "execution_count": null,
   "id": "be627dc7",
   "metadata": {},
   "outputs": [],
   "source": [
    "c_range = np.arange(0, 3, 0.1)\n",
    "\n",
    "answer_c_list = []\n",
    "\n",
    "for c_val in c_range: #Go through the c_range OUTSIDE of the function - answers converge for each step\n",
    "    answer = relax_method(1, c = c_val)\n",
    "    answer_c_list.append(answer)"
   ]
  },
  {
   "cell_type": "code",
   "execution_count": null,
   "id": "aa2aa21f",
   "metadata": {},
   "outputs": [],
   "source": [
    "fig = plt.figure(figsize = (12, 8))\n",
    "\n",
    "plt.xlabel('c', fontsize = 15)\n",
    "plt.ylabel('x', fontsize = 15)\n",
    "plt.title('Relaxation Method', fontsize = 20)\n",
    "\n",
    "plt.scatter(c_range, answer_c_list, color = 'blue')\n",
    "plt.grid()\n",
    "plt.show()"
   ]
  },
  {
   "cell_type": "markdown",
   "id": "4439c946",
   "metadata": {},
   "source": [
    "Newton's Method"
   ]
  },
  {
   "cell_type": "code",
   "execution_count": null,
   "id": "c67f1a8b",
   "metadata": {},
   "outputs": [],
   "source": [
    "def legendre_polynomial(x):\n",
    "    const_list = [924, 2772, 3150, 1680, 420, 42, 1]\n",
    "    P = (const_list[0] * (x ** 6)) - (const_list[1] * (x ** 5)) + (const_list[2] * (x ** 4)) - (const_list[3] * (x ** 3)) + (const_list[4] * (x ** 2)) - (const_list[5] * x) + const_list[6]\n",
    "    return P"
   ]
  },
  {
   "cell_type": "code",
   "execution_count": null,
   "id": "1d083dd4",
   "metadata": {},
   "outputs": [],
   "source": [
    "def deriv_legendre(x):\n",
    "    const_list = [924, 2772, 3150, 1680, 420, 42, 1]\n",
    "    P_prime = (6 * const_list[0] * (x ** 5)) - (5 * const_list[1] * (x ** 4)) + (4 * const_list[2] * (x ** 3)) - (3 * const_list[3] * (x ** 2)) + (2 * const_list[4] * x) - const_list[5]\n",
    "    return P_prime"
   ]
  },
  {
   "cell_type": "code",
   "execution_count": null,
   "id": "77b91043",
   "metadata": {},
   "outputs": [],
   "source": [
    "x_range = np.arange(0, 1, 0.01)\n",
    "\n",
    "P_vals = []\n",
    "P_prime_vals = []\n",
    "\n",
    "for x in x_range:\n",
    "    P_vals.append(legendre_polynomial(x))\n",
    "    P_prime_vals.append(deriv_legendre(x))"
   ]
  },
  {
   "cell_type": "code",
   "execution_count": null,
   "id": "232cc38e",
   "metadata": {},
   "outputs": [],
   "source": [
    "fig = plt.figure(figsize = (12, 8))\n",
    "\n",
    "plt.xlabel('x', fontsize = 15)\n",
    "plt.ylabel('P(x)', fontsize = 15)\n",
    "plt.title('Plotting Legendre Polynomial', fontsize = 20)\n",
    "\n",
    "plt.xlim(0, 1)\n",
    "plt.ylim(-1, 1)\n",
    "\n",
    "plt.plot(x_range, P_vals, color = 'blue', linewidth = 3, label = 'Legendre')\n",
    "plt.plot(x_range, P_prime_vals, color = 'orangered', linewidth = 3, label = 'Derivative')\n",
    "\n",
    "plt.axhline(y = 0, color = 'black', linestyle = '--')\n",
    "\n",
    "plt.legend(loc = 'upper right', fontsize = 15)\n",
    "\n",
    "plt.grid()\n",
    "plt.show()"
   ]
  },
  {
   "cell_type": "code",
   "execution_count": null,
   "id": "b3d62917",
   "metadata": {},
   "outputs": [],
   "source": [
    "root_guesses = [0.03, 0.15, 0.38, 0.62, 0.85, 0.93]\n",
    "\n",
    "def newtons_method(x_1, f = legendre_polynomial, f_prime = deriv_legendre, tol = 1e-10, max_iter = 100000):\n",
    "    num_iter = 0\n",
    "    \n",
    "    x_2 = x_1 - (f(x_1) / f_prime(x_1)) #x_2 isn't dependent on the second guess. It's dependent on P(x_1) and its derivative.\n",
    "    \n",
    "    while abs(x_2 - x_1) > tol: #Make sure the derivative isn't 0, or the function will fail\n",
    "        num_iter += 1\n",
    "        x_1 = x_2 #x_1 keeps changing until a root is found\n",
    "        x_2 = x_1 - (f(x_1) / f_prime(x_1))\n",
    "        \n",
    "        if num_iter > max_iter: #Will be an infinite loop if we don't define the max iterations\n",
    "            print(f\"Did not converge after {max_iter} iterations.\")\n",
    "            return None #Won't return any values\n",
    "    return x_2"
   ]
  },
  {
   "cell_type": "code",
   "execution_count": null,
   "id": "36396f1c",
   "metadata": {},
   "outputs": [],
   "source": [
    "roots = []\n",
    "\n",
    "for guess in root_guesses:\n",
    "    answer = newtons_method(guess)\n",
    "    \n",
    "    if answer is not None:\n",
    "        roots.append(answer)"
   ]
  },
  {
   "cell_type": "code",
   "execution_count": null,
   "id": "17d9876b",
   "metadata": {},
   "outputs": [],
   "source": [
    "roots"
   ]
  },
  {
   "cell_type": "code",
   "execution_count": null,
   "id": "770c8a59",
   "metadata": {},
   "outputs": [],
   "source": [
    "fig = plt.figure(figsize = (12, 8))\n",
    "\n",
    "plt.xlabel('x', fontsize = 15)\n",
    "plt.ylabel('P(x)', fontsize = 15)\n",
    "plt.title('Plotting Legendre Polynomial', fontsize = 20)\n",
    "\n",
    "plt.xlim(0, 1)\n",
    "plt.ylim(-1, 1)\n",
    "\n",
    "plt.plot(x_range, P_vals, color = 'orangered', linewidth = 3, label = 'Legendre')\n",
    "\n",
    "plt.scatter(roots, np.zeros(6), color = 'blue', s = 50, label = 'Roots with Newtons Method')\n",
    "\n",
    "plt.scatter(root_guesses, np.zeros(6), color = 'mediumspringgreen', s = 50, label = 'Guesses')\n",
    "\n",
    "plt.axhline(y = 0, color = 'black', linestyle = '--')\n",
    "\n",
    "plt.legend(loc = 'upper right', fontsize = 15)\n",
    "\n",
    "plt.grid()\n",
    "plt.show()"
   ]
  },
  {
   "cell_type": "code",
   "execution_count": null,
   "id": "c0767852",
   "metadata": {},
   "outputs": [],
   "source": [
    "#Let's try the secant method now (maybe I shouldn't worry about the guesses right now)\n",
    "\n",
    "def secant_method(x_1, x_2, f = legendre_polynomial, tol = 1e-10, max_iter = 100000):#Method isn't working\n",
    "    #For the secant method, we're using pairs of points to find the roots\n",
    "    \n",
    "    num_iter = 0\n",
    "    \n",
    "    x_3 = x_2  - (f(x_2) * x_2  - ((x_2 - x_1) / (f(x_2) - f(x_1))))\n",
    "    \n",
    "    while abs(x_2 - x_3) > tol:\n",
    "        num_iter += 1\n",
    "        \n",
    "        x_1 = x_2\n",
    "        x_2 = x_3\n",
    "        \n",
    "        x_3 = x_2  - (f(x_2) * ((x_2 - x_1) / (f(x_2) - f(x_1))))\n",
    "        \n",
    "        if num_iter > max_iter: #Will be an infinite loop if we don't define the max iterations\n",
    "            print(f\"Did not converge after {max_iter} iterations.\")\n",
    "            return None #Won't return any values\n",
    "    return x_3\n",
    "        "
   ]
  },
  {
   "cell_type": "code",
   "execution_count": null,
   "id": "40d66619",
   "metadata": {},
   "outputs": [],
   "source": [
    "sec_roots = []\n",
    "\n",
    "\n",
    "for i in range(len(root_guesses)):\n",
    "    if i < len(root_guesses) - 1:\n",
    "        answer = secant_method(root_guesses[i], root_guesses[i + 1])\n",
    "        \n",
    "        if answer is not None:\n",
    "            sec_roots.append(answer)\n",
    "    \n",
    "    #if answer is not None:\n",
    "        #sec_roots.append(answer)"
   ]
  },
  {
   "cell_type": "code",
   "execution_count": null,
   "id": "5afa5533",
   "metadata": {},
   "outputs": [],
   "source": [
    "sec_roots"
   ]
  },
  {
   "cell_type": "code",
   "execution_count": null,
   "id": "7fcdab4d",
   "metadata": {},
   "outputs": [],
   "source": [
    "fig = plt.figure(figsize = (12, 8))\n",
    "\n",
    "plt.xlabel('x', fontsize = 15)\n",
    "plt.ylabel('P(x)', fontsize = 15)\n",
    "plt.title('Plotting Legendre Polynomial', fontsize = 20)\n",
    "\n",
    "plt.xlim(0, 1)\n",
    "plt.ylim(-1, 1)\n",
    "\n",
    "plt.plot(x_range, P_vals, color = 'orangered', linewidth = 3, label = 'Legendre')\n",
    "\n",
    "plt.scatter(sec_roots, np.zeros(5), color = 'blue', s = 50, label = 'Roots from Secant Method')\n",
    "\n",
    "plt.scatter(root_guesses, np.zeros(6), color = 'mediumspringgreen', s = 50, label = 'Guesses')\n",
    "\n",
    "plt.axhline(y = 0, color = 'black', linestyle = '--')\n",
    "\n",
    "plt.legend(loc = 'upper right', fontsize = 15)\n",
    "\n",
    "plt.grid()\n",
    "plt.show()"
   ]
  },
  {
   "cell_type": "markdown",
   "id": "ff75f25b",
   "metadata": {},
   "source": [
    "# HW - Lagrange Point"
   ]
  },
  {
   "cell_type": "code",
   "execution_count": null,
   "id": "1fb06abb",
   "metadata": {},
   "outputs": [],
   "source": [
    "def lagrange(r):\n",
    "    G = const.G\n",
    "    M = const.M_earth\n",
    "    m = 7.348e22 * u.kg\n",
    "    R = 3.844e8 * u.m\n",
    "    omega = 2.662e-6 * (1/u.s)\n",
    "    \n",
    "    L = ((G * M) / np.square(r * u.m)) - ((G * m) / np.square(R - (r * u.m))) - (np.square(omega) * (r * u.m))\n",
    "    \n",
    "    return L"
   ]
  },
  {
   "cell_type": "code",
   "execution_count": null,
   "id": "fd78293c",
   "metadata": {},
   "outputs": [],
   "source": [
    "x_range = np.linspace(1e7, 1e9, 1000)\n",
    "y_vals = []\n",
    "\n",
    "for x in x_range:\n",
    "    y_vals.append(lagrange(x).value)"
   ]
  },
  {
   "cell_type": "code",
   "execution_count": null,
   "id": "ebbf4ac1",
   "metadata": {},
   "outputs": [],
   "source": [
    "fig = plt.figure(figsize = (12, 8))\n",
    "\n",
    "#plt.xlim(3.8e8, 3.9e8)\n",
    "#plt.ylim(-100, 10)\n",
    "\n",
    "plt.xlabel('r (m)', fontsize = 15)\n",
    "plt.ylabel('f(r) (m)', fontsize = 15)\n",
    "\n",
    "plt.plot(x_range, y_vals, color = 'blue', linewidth = 3)\n",
    "\n",
    "plt.grid()\n",
    "plt.show()"
   ]
  },
  {
   "cell_type": "markdown",
   "id": "93cf824e",
   "metadata": {},
   "source": [
    "Sunspot Example (Exercise 7.2)"
   ]
  },
  {
   "cell_type": "code",
   "execution_count": null,
   "id": "0c74339c",
   "metadata": {},
   "outputs": [],
   "source": [
    "sunspots_file = np.loadtxt('/Users/giovannigollotti/Downloads/sunspots.txt')\n",
    "\n",
    "months = sunspots_file[:,0]\n",
    "spots = sunspots_file[:,1]\n",
    "\n",
    "months"
   ]
  },
  {
   "cell_type": "code",
   "execution_count": null,
   "id": "1344fc5e",
   "metadata": {},
   "outputs": [],
   "source": [
    "fig = plt.figure(figsize = (12, 8))\n",
    "\n",
    "plt.title('Sunspots Since 1749', fontsize = 20)\n",
    "plt.xlabel('Months', fontsize = 15)\n",
    "plt.ylabel('Number of Sunspots', fontsize = 15)\n",
    "\n",
    "plt.xlim(0, 500)\n",
    "\n",
    "plt.plot(months, spots, color = 'blue')\n",
    "\n",
    "plt.grid()\n",
    "plt.show()"
   ]
  },
  {
   "cell_type": "code",
   "execution_count": null,
   "id": "a6905bd7",
   "metadata": {},
   "outputs": [],
   "source": [
    "def DFT(y): #finds ck values\n",
    "    \n",
    "    N = len(y)\n",
    "    c = np.zeros(N//2 + 1, complex)\n",
    "    \n",
    "    for k in range(N//2 + 1):\n",
    "        for n in range(N):\n",
    "            c[k] += y[n] * cmath.exp(-2j * cmath.pi * k * n/N)\n",
    "            \n",
    "    return c"
   ]
  },
  {
   "cell_type": "code",
   "execution_count": null,
   "id": "239ee48a",
   "metadata": {},
   "outputs": [],
   "source": [
    "coeffs = DFT(spots)"
   ]
  },
  {
   "cell_type": "code",
   "execution_count": null,
   "id": "dacb671c",
   "metadata": {},
   "outputs": [],
   "source": [
    "k_range = np.arange(1, len(coeffs) - 1, 1)\n",
    "\n",
    "k_range"
   ]
  },
  {
   "cell_type": "code",
   "execution_count": null,
   "id": "000e6d26",
   "metadata": {},
   "outputs": [],
   "source": [
    "fig = plt.figure(figsize = (12, 8))\n",
    "\n",
    "plt.title('DFT of Sunspots Since 1749', fontsize = 20)\n",
    "plt.xlabel('k', fontsize = 15)\n",
    "plt.ylabel(r'$c_k^2$', fontsize = 15)\n",
    "\n",
    "plt.xlim(0, 200)\n",
    "\n",
    "plt.plot(k_range, coeffs[1:-1], color = 'blue')\n",
    "\n",
    "plt.grid()\n",
    "plt.show()"
   ]
  },
  {
   "cell_type": "code",
   "execution_count": null,
   "id": "9775240e",
   "metadata": {},
   "outputs": [],
   "source": [
    "#Estimate from first plot = 200 months\n",
    "#Estimate from periodogram: k = 25\n",
    "\n",
    "def inverse_DFT(y, c_k, k):\n",
    "    N = len(y)\n",
    "    n = 0 #Not iterating through a list\n",
    "    \n",
    "    y_n = (1/N) * np.abs(c_k) * cmath.exp((2j * np.pi * k * n) / N)\n",
    "    \n",
    "    return y_n"
   ]
  },
  {
   "cell_type": "code",
   "execution_count": null,
   "id": "9a0a4838",
   "metadata": {},
   "outputs": [],
   "source": [
    "print(coeffs[23])\n",
    "print(k_range[23])"
   ]
  },
  {
   "cell_type": "code",
   "execution_count": null,
   "id": "d9691baa",
   "metadata": {},
   "outputs": [],
   "source": [
    "predicted_period = inverse_DFT(spots, coeffs[23], 24)"
   ]
  },
  {
   "cell_type": "code",
   "execution_count": null,
   "id": "9aed6292",
   "metadata": {},
   "outputs": [],
   "source": [
    "print(f\"{np.real(predicted_period):.3f} sunspots every 25 days\") #Does this represent the number of sunspots per periodic cycle?"
   ]
  },
  {
   "cell_type": "markdown",
   "id": "6f697827",
   "metadata": {},
   "source": [
    "Random numbers"
   ]
  },
  {
   "cell_type": "code",
   "execution_count": null,
   "id": "714eba94",
   "metadata": {},
   "outputs": [],
   "source": [
    "#Constants\n",
    "N_Ni = 1000\n",
    "N_Co = 0\n",
    "N_Fe = 0\n",
    "\n",
    "tau_Ni = 6.075 * 24 #in hours\n",
    "tau_Co = 77.236 * 24 #in hours\n",
    "\n",
    "h = 1.0 #time step in hours\n",
    "\n",
    "p_Ni = 1 - (2 ** (-h/tau_Ni)) #Decay equation for Nickel\n",
    "p_Co = 1 - (2 ** (-h/tau_Co)) #Decay equation for Cobalt\n",
    "\n",
    "t_max = 2000 #Total time"
   ]
  },
  {
   "cell_type": "code",
   "execution_count": null,
   "id": "ca96f464",
   "metadata": {},
   "outputs": [],
   "source": [
    "#List of plot points\n",
    "t_range = np.arange(0, t_max, h)\n",
    "Ni_points = []\n",
    "Co_points = []\n",
    "Fe_points = []"
   ]
  },
  {
   "cell_type": "code",
   "execution_count": null,
   "id": "f98f1df2",
   "metadata": {},
   "outputs": [],
   "source": [
    "for t in t_range:\n",
    "    Ni_points.append(N_Ni)\n",
    "    Co_points.append(N_Co)\n",
    "    Fe_points.append(N_Fe)\n",
    "    \n",
    "    #Calculate number of atoms from decay (start with cobalt)\n",
    "    decay_Co = 0\n",
    "    for i in range(N_Co):\n",
    "        if random() < p_Co:\n",
    "            decay_Co += 1\n",
    "    N_Co -= decay_Co\n",
    "    N_Fe += decay_Co\n",
    "\n",
    "    #Nested loop for nickel\n",
    "    decay_Ni = 0\n",
    "    for j in range(N_Ni):\n",
    "        if random() < p_Ni:\n",
    "            decay_Ni += 1\n",
    "    N_Ni -= decay_Ni\n",
    "    N_Co += decay_Ni"
   ]
  },
  {
   "cell_type": "code",
   "execution_count": null,
   "id": "82a415d4",
   "metadata": {},
   "outputs": [],
   "source": [
    "#plotting the function\n",
    "\n",
    "fig = plt.figure(figsize = (12,8))\n",
    "\n",
    "plt.title('Populations of Ni, Co, & Fe with Time', fontsize = 20)\n",
    "plt.xlabel('Times (hr)', fontsize = 15)\n",
    "plt.ylabel('Number of atoms', fontsize = 15)\n",
    "\n",
    "plt.plot(t_range, Ni_points, color = 'green', label = '$^{56}Ni$')\n",
    "plt.plot(t_range, Co_points, color = 'blue', label = '$^{56}Co$')\n",
    "plt.plot(t_range, Fe_points, color = 'orangered', label = '$^{56}Fe$')\n",
    "\n",
    "plt.grid()\n",
    "plt.legend(loc = 'upper right', fontsize = 15)"
   ]
  },
  {
   "cell_type": "markdown",
   "id": "83d3063e",
   "metadata": {},
   "source": [
    "Bismuth Decay"
   ]
  },
  {
   "cell_type": "code",
   "execution_count": null,
   "id": "d12314fe",
   "metadata": {},
   "outputs": [],
   "source": [
    "#Constants\n",
    "N_Bi = 1000\n",
    "N_Po = 0\n",
    "N_Tl = 0\n",
    "N_Pb = 0\n",
    "\n",
    "tau_Bi = 60.55 * 60 #in seconds\n",
    "tau_Po = 0.299e-6 #seconds\n",
    "tau_Tl = 3.053 * 60 #seconds\n",
    "\n",
    "h = 1.0 #time step in seconds\n",
    "\n",
    "p_Bi = 1 - (2 ** (-h/tau_Bi)) #Decay equation for Bi\n",
    "p_Po = 1 - (2 ** (-h/tau_Po)) #Decay equation for Po\n",
    "p_Tl = 1 - (2 ** (-h/tau_Tl))\n",
    "\n",
    "t_max = 20000 #Total time"
   ]
  },
  {
   "cell_type": "code",
   "execution_count": null,
   "id": "fcbd753f",
   "metadata": {},
   "outputs": [],
   "source": [
    "#List of plot points\n",
    "t_range = np.arange(0, t_max, h)\n",
    "Bi_points = []\n",
    "Po_points = []\n",
    "Tl_points = []\n",
    "Pb_points = []"
   ]
  },
  {
   "cell_type": "code",
   "execution_count": null,
   "id": "7cc0f69e",
   "metadata": {},
   "outputs": [],
   "source": [
    "for t in t_range:\n",
    "    Bi_points.append(N_Bi)\n",
    "    Po_points.append(N_Po)\n",
    "    Tl_points.append(N_Tl)\n",
    "    Pb_points.append(N_Pb)\n",
    "    \n",
    "    #Decaying Po to Pb\n",
    "    decay_Po = 0\n",
    "    for i in range(N_Po):\n",
    "        if random() < p_Po:\n",
    "            decay_Po += 1\n",
    "    N_Po -= decay_Po\n",
    "    N_Pb += decay_Po\n",
    "    \n",
    "    #Decaying Tl to Pb\n",
    "    decay_Tl = 0\n",
    "    for j in range(N_Tl):\n",
    "        if random() < p_Tl:\n",
    "            decay_Tl += 1\n",
    "    N_Tl -= decay_Tl\n",
    "    N_Pb += decay_Tl\n",
    "    \n",
    "    #Decaying from Bi into either Po or Tl\n",
    "    decay_Bi = 0\n",
    "    for k in range(N_Bi):\n",
    "        prob = random()\n",
    "        if prob < p_Bi:\n",
    "            decay_Bi += 1\n",
    "            if prob >= 0.6406: #Probability of Bi decaying into Po = 64.06%\n",
    "                N_Po += 1\n",
    "            if prob <= 0.3594: #Probability of Bi decaying into Tl = 35.94%\n",
    "                N_Tl += 1\n",
    "    N_Bi -= decay_Bi"
   ]
  },
  {
   "cell_type": "code",
   "execution_count": null,
   "id": "36ccefaf",
   "metadata": {},
   "outputs": [],
   "source": [
    "#plotting the function\n",
    "\n",
    "fig = plt.figure(figsize = (12,8))\n",
    "\n",
    "plt.title('Populations of Bi, Po, Tl, & Pb with Time', fontsize = 20)\n",
    "plt.xlabel('Times (s)', fontsize = 15)\n",
    "plt.ylabel('Number of atoms', fontsize = 15)\n",
    "\n",
    "plt.plot(t_range, Bi_points, color = 'green', label = '$^{212}Bi$')\n",
    "plt.plot(t_range, Po_points, color = 'blue', label = '$^{212}Po$')\n",
    "plt.plot(t_range, Tl_points, color = 'orangered', label = '$^{208}Tl$')\n",
    "plt.plot(t_range, Pb_points, color = 'black', label = '$^{208}Pb$')\n",
    "\n",
    "plt.grid()\n",
    "plt.legend(loc = 'upper right', fontsize = 15)"
   ]
  },
  {
   "cell_type": "markdown",
   "id": "7a308c59",
   "metadata": {},
   "source": [
    "Transformation Method"
   ]
  },
  {
   "cell_type": "code",
   "execution_count": null,
   "id": "be13e3b6",
   "metadata": {},
   "outputs": [],
   "source": [
    "rand_decay_time = np.random.random(1000)"
   ]
  },
  {
   "cell_type": "code",
   "execution_count": null,
   "id": "f90dc829",
   "metadata": {},
   "outputs": [],
   "source": [
    "rand_decay_time.sort()"
   ]
  },
  {
   "cell_type": "code",
   "execution_count": null,
   "id": "008ebb66",
   "metadata": {},
   "outputs": [],
   "source": [
    "def transform_method(z, mu):\n",
    "    \n",
    "    x = -(1/mu) * np.log(1 - z) #z = uniform random number, while the distribution of x is exponential\n",
    "    \n",
    "    return x"
   ]
  },
  {
   "cell_type": "code",
   "execution_count": null,
   "id": "98f0e12b",
   "metadata": {},
   "outputs": [],
   "source": [
    "#List of plot points\n",
    "num_range = np.arange(1000, 0, -1) #Plotted on y-axis (represents number of atoms)\n",
    "\n",
    "Ni_times = transform_method(rand_decay_time, 1/6.075) #Plotted on x-axis"
   ]
  },
  {
   "cell_type": "code",
   "execution_count": null,
   "id": "06d01822",
   "metadata": {},
   "outputs": [],
   "source": [
    "fig = plt.figure(figsize = (12, 8))\n",
    "\n",
    "plt.title(r'$^{56}Ni$ Decay Over Time', fontsize = 20)\n",
    "plt.xlabel('Time (days)', fontsize = 15)\n",
    "plt.ylabel('Number of atoms', fontsize = 15)\n",
    "\n",
    "plt.plot(Ni_times, num_range, color = 'blue')\n",
    "plt.grid()\n",
    "plt.show()"
   ]
  },
  {
   "cell_type": "markdown",
   "id": "1d76b4aa",
   "metadata": {},
   "source": [
    "Monte Carlo Integration vs. Mean Value Method"
   ]
  },
  {
   "cell_type": "code",
   "execution_count": null,
   "id": "df058f83",
   "metadata": {},
   "outputs": [],
   "source": [
    "#Monte Carlo Integration\n",
    "def weird_func(x):\n",
    "    return np.sin(1/(x * (2 - x))) ** 2"
   ]
  },
  {
   "cell_type": "code",
   "execution_count": null,
   "id": "ce96bd8f",
   "metadata": {},
   "outputs": [],
   "source": [
    "N = 10000\n",
    "\n",
    "x_range = np.random.random(N) * 2\n",
    "y_range = np.random.random(N)"
   ]
  },
  {
   "cell_type": "code",
   "execution_count": null,
   "id": "5d20c12b",
   "metadata": {},
   "outputs": [],
   "source": [
    "k = 0\n",
    "\n",
    "for x, y in zip(x_range, y_range): #Looking through pairs of x and y together\n",
    "    if y < weird_func(x):\n",
    "        k += 1"
   ]
  },
  {
   "cell_type": "code",
   "execution_count": null,
   "id": "1a794a14",
   "metadata": {},
   "outputs": [],
   "source": [
    "A = 2 #Box\n",
    "\n",
    "I = (k * A) / N\n",
    "\n",
    "I"
   ]
  },
  {
   "cell_type": "code",
   "execution_count": null,
   "id": "f44ca63c",
   "metadata": {},
   "outputs": [],
   "source": [
    "err = np.sqrt((I * (A - I))/N)\n",
    "\n",
    "err"
   ]
  },
  {
   "cell_type": "code",
   "execution_count": null,
   "id": "d7e083cd",
   "metadata": {},
   "outputs": [],
   "source": [
    "#Mean Value Method\n",
    "a = 0\n",
    "b = 2\n",
    "\n",
    "s = 0\n",
    "\n",
    "for x in x_range:\n",
    "    s += weird_func(x)\n",
    "    \n",
    "I = ((b - a)/N) * s\n",
    "\n",
    "I"
   ]
  },
  {
   "cell_type": "markdown",
   "id": "a7805221",
   "metadata": {},
   "source": [
    "Exercise 10.7: Finding the volume of a hypersphere"
   ]
  },
  {
   "cell_type": "code",
   "execution_count": 2,
   "id": "4c78fd24",
   "metadata": {},
   "outputs": [
    {
     "data": {
      "text/plain": [
       "0.9919015681024295"
      ]
     },
     "execution_count": 2,
     "metadata": {},
     "output_type": "execute_result"
    }
   ],
   "source": [
    "random.uniform(-1, 1) #Generates random number between -1 to 1"
   ]
  },
  {
   "cell_type": "code",
   "execution_count": 16,
   "id": "756a834a",
   "metadata": {},
   "outputs": [],
   "source": [
    "def sphere_equation(x, y):\n",
    "    return np.square(x) + np.square(y)"
   ]
  },
  {
   "cell_type": "code",
   "execution_count": 17,
   "id": "76ea681c",
   "metadata": {},
   "outputs": [],
   "source": [
    "N = 100\n",
    "n = 0\n",
    "\n",
    "x_range = []\n",
    "y_range = []\n",
    "\n",
    "while n < N:\n",
    "    x_range.append(random.uniform(-1, 1))\n",
    "    y_range.append(random.uniform(-1, 1))\n",
    "    \n",
    "    n += 1"
   ]
  },
  {
   "cell_type": "code",
   "execution_count": 28,
   "id": "9d6972c1",
   "metadata": {
    "scrolled": true
   },
   "outputs": [
    {
     "name": "stdout",
     "output_type": "stream",
     "text": [
      "The point is inside the circle.\n",
      "The point is inside the circle.\n",
      "The point is outside the circle.\n",
      "The point is inside the circle.\n",
      "The point is inside the circle.\n",
      "The point is inside the circle.\n",
      "The point is inside the circle.\n",
      "The point is inside the circle.\n",
      "The point is inside the circle.\n",
      "The point is inside the circle.\n",
      "The point is inside the circle.\n",
      "The point is inside the circle.\n",
      "The point is inside the circle.\n",
      "The point is inside the circle.\n",
      "The point is outside the circle.\n",
      "The point is outside the circle.\n",
      "The point is inside the circle.\n",
      "The point is outside the circle.\n",
      "The point is inside the circle.\n",
      "The point is inside the circle.\n",
      "The point is inside the circle.\n",
      "The point is inside the circle.\n",
      "The point is inside the circle.\n",
      "The point is inside the circle.\n",
      "The point is inside the circle.\n",
      "The point is inside the circle.\n",
      "The point is inside the circle.\n",
      "The point is inside the circle.\n",
      "The point is inside the circle.\n",
      "The point is inside the circle.\n",
      "The point is outside the circle.\n",
      "The point is inside the circle.\n",
      "The point is inside the circle.\n",
      "The point is inside the circle.\n",
      "The point is inside the circle.\n",
      "The point is outside the circle.\n",
      "The point is inside the circle.\n",
      "The point is outside the circle.\n",
      "The point is inside the circle.\n",
      "The point is outside the circle.\n",
      "The point is inside the circle.\n",
      "The point is inside the circle.\n",
      "The point is inside the circle.\n",
      "The point is inside the circle.\n",
      "The point is inside the circle.\n",
      "The point is inside the circle.\n",
      "The point is inside the circle.\n",
      "The point is outside the circle.\n",
      "The point is inside the circle.\n",
      "The point is inside the circle.\n",
      "The point is outside the circle.\n",
      "The point is inside the circle.\n",
      "The point is inside the circle.\n",
      "The point is inside the circle.\n",
      "The point is inside the circle.\n",
      "The point is inside the circle.\n",
      "The point is inside the circle.\n",
      "The point is inside the circle.\n",
      "The point is inside the circle.\n",
      "The point is inside the circle.\n",
      "The point is inside the circle.\n",
      "The point is outside the circle.\n",
      "The point is inside the circle.\n",
      "The point is inside the circle.\n",
      "The point is inside the circle.\n",
      "The point is inside the circle.\n",
      "The point is inside the circle.\n",
      "The point is inside the circle.\n",
      "The point is inside the circle.\n",
      "The point is inside the circle.\n",
      "The point is inside the circle.\n",
      "The point is inside the circle.\n",
      "The point is outside the circle.\n",
      "The point is inside the circle.\n",
      "The point is inside the circle.\n",
      "The point is inside the circle.\n",
      "The point is outside the circle.\n",
      "The point is inside the circle.\n",
      "The point is inside the circle.\n",
      "The point is inside the circle.\n",
      "The point is inside the circle.\n",
      "The point is outside the circle.\n",
      "The point is inside the circle.\n",
      "The point is inside the circle.\n",
      "The point is outside the circle.\n",
      "The point is outside the circle.\n",
      "The point is inside the circle.\n",
      "The point is inside the circle.\n",
      "The point is outside the circle.\n",
      "The point is inside the circle.\n",
      "The point is inside the circle.\n",
      "The point is inside the circle.\n",
      "The point is inside the circle.\n",
      "The point is outside the circle.\n",
      "The point is inside the circle.\n",
      "The point is inside the circle.\n",
      "The point is inside the circle.\n",
      "The point is inside the circle.\n",
      "The point is inside the circle.\n"
     ]
    }
   ],
   "source": [
    "s = 0\n",
    "\n",
    "for i in range(N): \n",
    "    if i + 1!= N: #Start at index i = 1, not i = 0\n",
    "        if sphere_equation(x_range[i + 1], y_range[i + 1]) <= 1:\n",
    "            f = 1\n",
    "            print(\"The point is inside the circle.\")\n",
    "            \n",
    "        if sphere_equation(x_range[i + 1], y_range[i + 1]) > 1:\n",
    "            f = 0\n",
    "            print(\"The point is outside the circle.\")\n",
    "        \n",
    "        s += (4/N) * f"
   ]
  },
  {
   "cell_type": "code",
   "execution_count": 29,
   "id": "82278357",
   "metadata": {},
   "outputs": [
    {
     "data": {
      "text/plain": [
       "3.240000000000002"
      ]
     },
     "execution_count": 29,
     "metadata": {},
     "output_type": "execute_result"
    }
   ],
   "source": [
    "s"
   ]
  },
  {
   "cell_type": "code",
   "execution_count": null,
   "id": "9493e1a5",
   "metadata": {},
   "outputs": [],
   "source": []
  }
 ],
 "metadata": {
  "kernelspec": {
   "display_name": "Python 3",
   "language": "python",
   "name": "python3"
  },
  "language_info": {
   "codemirror_mode": {
    "name": "ipython",
    "version": 3
   },
   "file_extension": ".py",
   "mimetype": "text/x-python",
   "name": "python",
   "nbconvert_exporter": "python",
   "pygments_lexer": "ipython3",
   "version": "3.8.8"
  }
 },
 "nbformat": 4,
 "nbformat_minor": 5
}
